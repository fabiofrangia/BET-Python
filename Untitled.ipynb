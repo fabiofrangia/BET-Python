{
 "cells": [
  {
   "cell_type": "code",
   "execution_count": 286,
   "metadata": {},
   "outputs": [],
   "source": [
    "import SimpleITK as sitk\n",
    "import numpy as np \n",
    "import matplotlib.pyplot as plt \n",
    "import nibabel as nib \n",
    "import seaborn as sns"
   ]
  },
  {
   "cell_type": "code",
   "execution_count": 287,
   "metadata": {},
   "outputs": [],
   "source": [
    "\n",
    "img = '/media/fabio/Disco locale/Scaricati/ADNI/002_S_0295/MPR__GradWarp__B1_Correction__N3__Scaled/2006-04-18_08_20_30.0/S13408/ADNI_002_S_0295_MR_MPR__GradWarp__B1_Correction__N3__Scaled_Br_20070319113623975_S13408_I45108.nii'\n",
    "img2 = '/media/fabio/Disco locale/Scaricati/ADNI/output_sfera.nii.gz'\n",
    "img3 = '/media/fabio/Disco locale/Scaricati/ADNI/output.nii.gz'"
   ]
  },
  {
   "cell_type": "code",
   "execution_count": 288,
   "metadata": {},
   "outputs": [],
   "source": [
    "Brain_MRI = sitk.ReadImage(img)\n",
    "sfera = sitk.ReadImage(img2)\n",
    "output = sitk.ReadImage(img3)"
   ]
  },
  {
   "cell_type": "code",
   "execution_count": 289,
   "metadata": {},
   "outputs": [
    {
     "data": {
      "text/plain": [
       "(-0.0,\n",
       " -9.652927346337492e-10,\n",
       " 1.0,\n",
       " -9.652927346337492e-10,\n",
       " 1.0,\n",
       " 9.652927346337492e-10,\n",
       " -1.0,\n",
       " -9.652927346337492e-10,\n",
       " 0.0)"
      ]
     },
     "execution_count": 289,
     "metadata": {},
     "output_type": "execute_result"
    }
   ],
   "source": [
    "sfera.GetDirection()"
   ]
  },
  {
   "cell_type": "code",
   "execution_count": null,
   "metadata": {},
   "outputs": [],
   "source": []
  },
  {
   "cell_type": "code",
   "execution_count": 290,
   "metadata": {},
   "outputs": [],
   "source": [
    "dimension = Brain_MRI.GetSize()"
   ]
  },
  {
   "cell_type": "code",
   "execution_count": 291,
   "metadata": {},
   "outputs": [],
   "source": [
    "center_of_mri_x = dimension[0]/2\n",
    "center_of_mri_y = dimension[1]/2\n",
    "center_of_mri_z = dimension[2]/2"
   ]
  },
  {
   "cell_type": "code",
   "execution_count": 292,
   "metadata": {},
   "outputs": [],
   "source": [
    "center_of_mri =(center_of_mri_x, center_of_mri_y, center_of_mri_z)"
   ]
  },
  {
   "cell_type": "code",
   "execution_count": 293,
   "metadata": {},
   "outputs": [
    {
     "data": {
      "text/plain": [
       "(128.0, 128.0, 83.0)"
      ]
     },
     "execution_count": 293,
     "metadata": {},
     "output_type": "execute_result"
    }
   ],
   "source": [
    "center_of_mri"
   ]
  },
  {
   "cell_type": "code",
   "execution_count": 294,
   "metadata": {},
   "outputs": [],
   "source": [
    "def sphere(shape, radius, position):\n",
    "    # assume shape and position are both a 3-tuple of int or float\n",
    "    # the units are pixels / voxels (px for short)\n",
    "    # radius is a int or float in px\n",
    "    semisizes = (radius,) * 3\n",
    "\n",
    "    # genereate the grid for the support points\n",
    "    # centered at the position indicated by position\n",
    "    grid = [slice(-x0, dim - x0) for x0, dim in zip(position, shape)]\n",
    "    position = np.ogrid[grid]\n",
    "    # calculate the distance of all points from `position` center\n",
    "    # scaled by the radius\n",
    "    arr = np.zeros(shape, dtype=float)\n",
    "    for x_i, semisize in zip(position, semisizes):\n",
    "        arr += (np.abs(x_i / semisize) ** 2)\n",
    "    # the inner part of the sphere will have distance below 1\n",
    "    return arr <= 1.0"
   ]
  },
  {
   "cell_type": "code",
   "execution_count": 295,
   "metadata": {},
   "outputs": [],
   "source": [
    "arr = sphere((166,256,256), 20, center_of_mri)"
   ]
  },
  {
   "cell_type": "code",
   "execution_count": 252,
   "metadata": {},
   "outputs": [],
   "source": [
    "Brain_Mri_array = sitk.GetArrayFromImage(Brain_MRI)"
   ]
  },
  {
   "cell_type": "code",
   "execution_count": 253,
   "metadata": {},
   "outputs": [],
   "source": [
    "binarized = 1*(Brain_Mri_array>0)"
   ]
  },
  {
   "cell_type": "code",
   "execution_count": 254,
   "metadata": {},
   "outputs": [
    {
     "data": {
      "text/plain": [
       "<matplotlib.image.AxesImage at 0x7f3827fb5b70>"
      ]
     },
     "execution_count": 254,
     "metadata": {},
     "output_type": "execute_result"
    },
    {
     "data": {
      "image/png": "[encoded data removed]",
      "text/plain": [
       "<Figure size 432x288 with 1 Axes>"
      ]
     },
     "metadata": {
      "needs_background": "light"
     },
     "output_type": "display_data"
    }
   ],
   "source": [
    "plt.imshow(binarized[100])"
   ]
  },
  {
   "cell_type": "code",
   "execution_count": 255,
   "metadata": {},
   "outputs": [
    {
     "name": "stdout",
     "output_type": "stream",
     "text": [
      "33401\n"
     ]
    }
   ],
   "source": [
    "print(np.sum(arr))"
   ]
  },
  {
   "cell_type": "code",
   "execution_count": 256,
   "metadata": {},
   "outputs": [
    {
     "data": {
      "text/plain": [
       "33401"
      ]
     },
     "execution_count": 256,
     "metadata": {},
     "output_type": "execute_result"
    }
   ],
   "source": [
    "np.sum(binarized[arr])"
   ]
  },
  {
   "cell_type": "code",
   "execution_count": 257,
   "metadata": {},
   "outputs": [],
   "source": [
    "Brain_MRI.SetDirection((1,0,0,0,1,0,0,0,1))"
   ]
  },
  {
   "cell_type": "code",
   "execution_count": 258,
   "metadata": {},
   "outputs": [
    {
     "data": {
      "text/plain": [
       "(1.0, 0.0, 0.0, 0.0, 1.0, 0.0, 0.0, 0.0, 1.0)"
      ]
     },
     "execution_count": 258,
     "metadata": {},
     "output_type": "execute_result"
    }
   ],
   "source": [
    "Brain_MRI.GetDirection()"
   ]
  },
  {
   "cell_type": "code",
   "execution_count": 259,
   "metadata": {},
   "outputs": [
    {
     "data": {
      "text/plain": [
       "<matplotlib.image.AxesImage at 0x7f3828387c18>"
      ]
     },
     "execution_count": 259,
     "metadata": {},
     "output_type": "execute_result"
    },
    {
     "data": {
      "image/png": "[encoded data removed]",
      "text/plain": [
       "<Figure size 432x288 with 1 Axes>"
      ]
     },
     "metadata": {
      "needs_background": "light"
     },
     "output_type": "display_data"
    }
   ],
   "source": [
    "plt.imshow(sitk.GetArrayFromImage(Brain_MRI)[50,:,:])"
   ]
  },
  {
   "cell_type": "code",
   "execution_count": 260,
   "metadata": {},
   "outputs": [
    {
     "data": {
      "text/plain": [
       "'0'"
      ]
     },
     "execution_count": 260,
     "metadata": {},
     "output_type": "execute_result"
    }
   ],
   "source": [
    "Brain_MRI.GetMetaData(Brain_MRI.GetMetaDataKeys()[18])"
   ]
  },
  {
   "cell_type": "code",
   "execution_count": 261,
   "metadata": {},
   "outputs": [
    {
     "data": {
      "text/plain": [
       "(1.0, 0.0, 0.0, 0.0, 1.0, 0.0, 0.0, 0.0, 1.0)"
      ]
     },
     "execution_count": 261,
     "metadata": {},
     "output_type": "execute_result"
    }
   ],
   "source": [
    "Brain_MRI.GetDirection()"
   ]
  },
  {
   "cell_type": "code",
   "execution_count": 262,
   "metadata": {},
   "outputs": [],
   "source": [
    "asd = np.transpose(sitk.GetArrayFromImage(Brain_MRI), (2,1,0))"
   ]
  },
  {
   "cell_type": "code",
   "execution_count": 263,
   "metadata": {},
   "outputs": [
    {
     "data": {
      "text/plain": [
       "<matplotlib.image.AxesImage at 0x7f38281d0e10>"
      ]
     },
     "execution_count": 263,
     "metadata": {},
     "output_type": "execute_result"
    },
    {
     "data": {
      "image/png": "[encoded data removed]",
      "text/plain": [
       "<Figure size 432x288 with 1 Axes>"
      ]
     },
     "metadata": {
      "needs_background": "light"
     },
     "output_type": "display_data"
    }
   ],
   "source": [
    "plt.imshow(asd[:,100,:])"
   ]
  },
  {
   "cell_type": "code",
   "execution_count": 264,
   "metadata": {},
   "outputs": [],
   "source": [
    "binarized = 1*(asd>0)"
   ]
  },
  {
   "cell_type": "code",
   "execution_count": 265,
   "metadata": {},
   "outputs": [
    {
     "data": {
      "text/plain": [
       "<matplotlib.image.AxesImage at 0x7f38282269b0>"
      ]
     },
     "execution_count": 265,
     "metadata": {},
     "output_type": "execute_result"
    },
    {
     "data": {
      "image/png": "[encoded data removed]",
      "text/plain": [
       "<Figure size 432x288 with 1 Axes>"
      ]
     },
     "metadata": {
      "needs_background": "light"
     },
     "output_type": "display_data"
    }
   ],
   "source": [
    "plt.imshow(binarized[:, 126, :])"
   ]
  },
  {
   "cell_type": "code",
   "execution_count": 266,
   "metadata": {},
   "outputs": [
    {
     "name": "stdout",
     "output_type": "stream",
     "text": [
      "33401\n"
     ]
    }
   ],
   "source": [
    "print(np.sum(arr))"
   ]
  },
  {
   "cell_type": "code",
   "execution_count": 267,
   "metadata": {},
   "outputs": [
    {
     "ename": "ValueError",
     "evalue": "operands could not be broadcast together with shapes (256,256,166) (166,256,256) ",
     "output_type": "error",
     "traceback": [
      "\u001b[0;31m---------------------------------------------------------------------------\u001b[0m",
      "\u001b[0;31mValueError\u001b[0m                                Traceback (most recent call last)",
      "\u001b[0;32m<ipython-input-267-bf9a3117e040>\u001b[0m in \u001b[0;36m<module>\u001b[0;34m\u001b[0m\n\u001b[0;32m----> 1\u001b[0;31m \u001b[0mnp\u001b[0m\u001b[0;34m.\u001b[0m\u001b[0msum\u001b[0m\u001b[0;34m(\u001b[0m\u001b[0mbinarized\u001b[0m\u001b[0;34m[\u001b[0m\u001b[0marr\u001b[0m\u001b[0;34m]\u001b[0m\u001b[0;34m)\u001b[0m\u001b[0;34m\u001b[0m\u001b[0m\n\u001b[0m",
      "\u001b[0;31mValueError\u001b[0m: operands could not be broadcast together with shapes (256,256,166) (166,256,256) "
     ]
    }
   ],
   "source": [
    "np.sum(binarized[arr])"
   ]
  },
  {
   "cell_type": "code",
   "execution_count": 268,
   "metadata": {},
   "outputs": [],
   "source": [
    "bin = np.transpose(binarized, (2,1,0))"
   ]
  },
  {
   "cell_type": "code",
   "execution_count": 269,
   "metadata": {},
   "outputs": [
    {
     "data": {
      "text/plain": [
       "33401"
      ]
     },
     "execution_count": 269,
     "metadata": {},
     "output_type": "execute_result"
    }
   ],
   "source": [
    "np.sum(bin[arr])"
   ]
  },
  {
   "cell_type": "code",
   "execution_count": 307,
   "metadata": {},
   "outputs": [
    {
     "name": "stdout",
     "output_type": "stream",
     "text": [
      "+ + + \n",
      "10\n",
      "(77.0, 151.0, 83.0)\n",
      "+ + + \n",
      "11\n",
      "(77.0, 151.0, 83.0)\n",
      "+ + + \n",
      "12\n",
      "(77.0, 151.0, 83.0)\n",
      "+ + + \n",
      "13\n",
      "(77.0, 151.0, 83.0)\n",
      "+ + + \n",
      "14\n",
      "(77.0, 151.0, 83.0)\n",
      "+ + + \n",
      "15\n",
      "(77.0, 151.0, 83.0)\n",
      "+ + + \n",
      "16\n",
      "(77.0, 151.0, 83.0)\n",
      "+ + + \n",
      "17\n",
      "(77.0, 151.0, 83.0)\n",
      "+ + + \n",
      "18\n",
      "(77.0, 151.0, 83.0)\n",
      "+ + + \n",
      "19\n",
      "(77.0, 151.0, 83.0)\n",
      "+ + + \n",
      "20\n",
      "(77.0, 151.0, 83.0)\n",
      "+ + + \n",
      "21\n",
      "(77.0, 151.0, 83.0)\n",
      "+ + + \n",
      "22\n",
      "(77.0, 151.0, 83.0)\n",
      "+ + + \n",
      "23\n",
      "(77.0, 151.0, 83.0)\n",
      "+ + + \n",
      "24\n",
      "(77.0, 151.0, 83.0)\n",
      "+ + + \n",
      "25\n",
      "(77.0, 151.0, 83.0)\n",
      "+ + + \n",
      "26\n",
      "(77.0, 151.0, 83.0)\n",
      "+ + + \n",
      "27\n",
      "(77.0, 151.0, 83.0)\n",
      "+ + + \n",
      "28\n",
      "(77.0, 151.0, 83.0)\n",
      "+ + + \n",
      "29\n",
      "(77.0, 151.0, 83.0)\n",
      "+ + + \n",
      "30\n",
      "(77.0, 151.0, 83.0)\n",
      "+ + + \n",
      "31\n",
      "(77.0, 151.0, 83.0)\n",
      "+ + + \n",
      "32\n",
      "(77.0, 151.0, 83.0)\n",
      "+ + + \n",
      "33\n",
      "(77.0, 151.0, 83.0)\n",
      "+ + + \n",
      "34\n",
      "(77.0, 151.0, 83.0)\n",
      "+ + + \n",
      "35\n",
      "(77.0, 151.0, 83.0)\n",
      "+ + + \n",
      "36\n",
      "(77.0, 151.0, 83.0)\n",
      "+ + + \n",
      "37\n",
      "(77.0, 151.0, 83.0)\n",
      "+ + + \n",
      "38\n",
      "(77.0, 151.0, 83.0)\n",
      "+ + + \n",
      "39\n",
      "(77.0, 151.0, 83.0)\n",
      "+ + + \n",
      "40\n",
      "(77.0, 151.0, 83.0)\n",
      "+ + + \n",
      "41\n",
      "(77.0, 151.0, 83.0)\n",
      "+ + + \n",
      "42\n",
      "(77.0, 151.0, 83.0)\n",
      "+ + + \n",
      "43\n",
      "(77.0, 151.0, 83.0)\n",
      "+ + + \n",
      "44\n",
      "(77.0, 151.0, 83.0)\n",
      "+ + + \n",
      "45\n",
      "(77.0, 151.0, 83.0)\n",
      "+ + + \n",
      "46\n",
      "(77.0, 151.0, 83.0)\n",
      "+ + + \n",
      "47\n",
      "(77.0, 151.0, 83.0)\n",
      "+ + + \n",
      "48\n",
      "(77.0, 151.0, 83.0)\n",
      "+ + + \n",
      "49\n",
      "(77.0, 151.0, 83.0)\n",
      "+ + + \n",
      "50\n",
      "(77.0, 151.0, 83.0)\n",
      "+ + + \n",
      "51\n",
      "(77.0, 151.0, 83.0)\n",
      "+ + + \n",
      "52\n",
      "(77.0, 151.0, 83.0)\n",
      "+ + + \n",
      "53\n",
      "(77.0, 151.0, 83.0)\n",
      "+ + + \n",
      "54\n",
      "(77.0, 151.0, 83.0)\n",
      "Volumi non uguali\n",
      "***\n",
      "Center of MRI\n",
      "(76.0, 151.0, 83.0)\n",
      "Mi sposto sull'asse y\n",
      "(77.0, 149.0, 83.0)\n",
      "+ + + \n",
      "54\n",
      "(77.0, 149.0, 83.0)\n",
      "Volumi non uguali\n",
      "***\n",
      "Center of MRI\n",
      "(76.0, 149.0, 83.0)\n",
      "Mi sposto sull'asse y\n",
      "(77.0, 147.0, 83.0)\n",
      "Diminuisco su y\n",
      "(77.0, 151.0, 83.0)\n",
      "+ + + \n",
      "54\n",
      "(77.0, 151.0, 83.0)\n",
      "Volumi non uguali\n",
      "***\n",
      "Center of MRI\n",
      "(75.0, 151.0, 83.0)\n",
      "Mi sposto sull'asse y\n",
      "(77.0, 149.0, 83.0)\n",
      "+ + + \n",
      "54\n",
      "(77.0, 149.0, 83.0)\n",
      "Volumi non uguali\n",
      "***\n",
      "Center of MRI\n",
      "(75.0, 149.0, 83.0)\n",
      "Mi sposto sull'asse y\n",
      "(77.0, 148.0, 83.0)\n",
      "Diminuisco su y\n",
      "(77.0, 150.0, 83.0)\n",
      "+ + + \n",
      "54\n",
      "(77.0, 150.0, 83.0)\n",
      "Volumi non uguali\n",
      "***\n",
      "Center of MRI\n",
      "(76.0, 150.0, 83.0)\n",
      "Mi sposto sull'asse y\n",
      "(77.0, 149.0, 83.0)\n",
      "+ + + \n",
      "54\n",
      "(77.0, 149.0, 83.0)\n",
      "Volumi non uguali\n",
      "***\n",
      "Center of MRI\n",
      "(76.0, 149.0, 83.0)\n",
      "Mi sposto sull'asse y\n",
      "(77.0, 147.0, 83.0)\n",
      "Diminuisco su y\n",
      "(77.0, 151.0, 83.0)\n",
      "+ + + \n",
      "54\n",
      "(77.0, 151.0, 83.0)\n",
      "Volumi non uguali\n",
      "***\n",
      "Center of MRI\n",
      "(76.0, 151.0, 83.0)\n",
      "Mi sposto sull'asse y\n",
      "(77.0, 149.0, 83.0)\n",
      "+ + + \n",
      "54\n",
      "(77.0, 149.0, 83.0)\n",
      "Volumi non uguali\n",
      "***\n",
      "Center of MRI\n",
      "(75.0, 149.0, 83.0)\n",
      "Mi sposto sull'asse y\n",
      "(77.0, 148.0, 83.0)\n",
      "Diminuisco su y\n",
      "(77.0, 150.0, 83.0)\n",
      "+ + + \n",
      "54\n",
      "(77.0, 150.0, 83.0)\n",
      "Volumi non uguali\n",
      "***\n",
      "Center of MRI\n",
      "(75.0, 150.0, 83.0)\n",
      "Mi sposto sull'asse y\n",
      "(77.0, 149.0, 83.0)\n",
      "+ + + \n",
      "54\n",
      "(77.0, 149.0, 83.0)\n",
      "Volumi non uguali\n",
      "***\n",
      "Center of MRI\n",
      "(76.0, 149.0, 83.0)\n",
      "Mi sposto sull'asse y\n",
      "(77.0, 147.0, 83.0)\n",
      "Diminuisco su y\n",
      "(77.0, 151.0, 83.0)\n",
      "+ + + \n",
      "54\n",
      "(77.0, 151.0, 83.0)\n",
      "Volumi non uguali\n",
      "***\n",
      "Center of MRI\n",
      "(76.0, 151.0, 83.0)\n",
      "Mi sposto sull'asse y\n",
      "(77.0, 150.0, 83.0)\n",
      "+ + + \n",
      "54\n",
      "(77.0, 150.0, 83.0)\n",
      "Volumi non uguali\n",
      "***\n",
      "Center of MRI\n",
      "(76.0, 150.0, 83.0)\n",
      "Mi sposto sull'asse y\n",
      "(77.0, 148.0, 83.0)\n",
      "Diminuisco su y\n",
      "(77.0, 152.0, 83.0)\n",
      "+ + + \n",
      "54\n",
      "(77.0, 152.0, 83.0)\n",
      "Volumi non uguali\n",
      "***\n",
      "Center of MRI\n",
      "(76.0, 152.0, 83.0)\n",
      "Mi sposto sull'asse y\n",
      "(77.0, 150.0, 83.0)\n",
      "+ + + \n",
      "54\n",
      "(77.0, 150.0, 83.0)\n",
      "Volumi non uguali\n",
      "***\n",
      "Center of MRI\n",
      "(75.0, 150.0, 83.0)\n",
      "Mi sposto sull'asse y\n",
      "(77.0, 148.0, 83.0)\n",
      "Diminuisco su y\n",
      "(77.0, 151.0, 83.0)\n",
      "+ + + \n",
      "54\n",
      "(77.0, 151.0, 83.0)\n",
      "Volumi non uguali\n",
      "***\n",
      "Center of MRI\n",
      "(75.0, 151.0, 83.0)\n",
      "Mi sposto sull'asse y\n",
      "(77.0, 150.0, 83.0)\n",
      "+ + + \n",
      "54\n",
      "(77.0, 150.0, 83.0)\n",
      "Volumi non uguali\n",
      "***\n",
      "Center of MRI\n",
      "(75.0, 150.0, 83.0)\n",
      "Mi sposto sull'asse y\n",
      "(77.0, 148.0, 83.0)\n",
      "Diminuisco su y\n",
      "(77.0, 152.0, 83.0)\n",
      "+ + + \n",
      "54\n",
      "(77.0, 152.0, 83.0)\n",
      "Volumi non uguali\n",
      "***\n",
      "Center of MRI\n",
      "(76.0, 152.0, 83.0)\n",
      "Mi sposto sull'asse y\n",
      "(77.0, 151.0, 83.0)\n",
      "+ + + \n",
      "54\n",
      "(77.0, 151.0, 83.0)\n",
      "Volumi non uguali\n",
      "***\n",
      "Center of MRI\n",
      "(75.0, 151.0, 83.0)\n",
      "Mi sposto sull'asse y\n",
      "(77.0, 150.0, 83.0)\n",
      "+ + + \n",
      "54\n",
      "(77.0, 150.0, 83.0)\n",
      "Volumi non uguali\n",
      "***\n",
      "Center of MRI\n",
      "(75.0, 150.0, 83.0)\n",
      "Mi sposto sull'asse y\n",
      "(77.0, 149.0, 83.0)\n",
      "+ + + \n",
      "54\n",
      "(77.0, 149.0, 83.0)\n",
      "Volumi non uguali\n",
      "***\n",
      "Center of MRI\n",
      "(75.0, 149.0, 83.0)\n",
      "Mi sposto sull'asse y\n",
      "(77.0, 148.0, 83.0)\n",
      "Diminuisco su y\n",
      "(77.0, 151.0, 83.0)\n",
      "+ + + \n",
      "54\n",
      "(77.0, 151.0, 83.0)\n",
      "Volumi non uguali\n",
      "***\n",
      "Center of MRI\n",
      "(76.0, 151.0, 83.0)\n",
      "Mi sposto sull'asse y\n",
      "(77.0, 149.0, 83.0)\n",
      "+ + + \n",
      "54\n",
      "(77.0, 149.0, 83.0)\n",
      "Volumi non uguali\n",
      "***\n",
      "Center of MRI\n",
      "(76.0, 149.0, 83.0)\n",
      "Mi sposto sull'asse y\n",
      "(77.0, 147.0, 83.0)\n",
      "Diminuisco su y\n",
      "(77.0, 150.0, 83.0)\n",
      "+ + + \n",
      "54\n",
      "(77.0, 150.0, 83.0)\n",
      "Volumi non uguali\n",
      "***\n",
      "Center of MRI\n",
      "(75.0, 150.0, 83.0)\n",
      "Mi sposto sull'asse y\n",
      "(77.0, 149.0, 83.0)\n",
      "+ + + \n",
      "54\n",
      "(77.0, 149.0, 83.0)\n",
      "Volumi non uguali\n",
      "***\n",
      "Center of MRI\n",
      "(76.0, 149.0, 83.0)\n",
      "Mi sposto sull'asse y\n",
      "(77.0, 147.0, 83.0)\n",
      "Diminuisco su y\n",
      "(77.0, 151.0, 83.0)\n",
      "+ + + \n",
      "54\n",
      "(77.0, 151.0, 83.0)\n",
      "Volumi non uguali\n",
      "***\n",
      "Center of MRI\n",
      "(76.0, 151.0, 83.0)\n",
      "Mi sposto sull'asse y\n",
      "(77.0, 150.0, 83.0)\n",
      "+ + + \n",
      "54\n",
      "(77.0, 150.0, 83.0)\n",
      "Volumi non uguali\n",
      "***\n",
      "Center of MRI\n",
      "(75.0, 150.0, 83.0)\n",
      "Mi sposto sull'asse y\n",
      "(77.0, 149.0, 83.0)\n",
      "+ + + \n",
      "54\n",
      "(77.0, 149.0, 83.0)\n",
      "Volumi non uguali\n",
      "***\n",
      "Center of MRI\n",
      "(75.0, 149.0, 83.0)\n",
      "Mi sposto sull'asse y\n",
      "(77.0, 148.0, 83.0)\n",
      "Diminuisco su y\n",
      "(77.0, 151.0, 83.0)\n",
      "+ + + \n",
      "54\n",
      "(77.0, 151.0, 83.0)\n",
      "Volumi non uguali\n",
      "***\n",
      "Center of MRI\n",
      "(76.0, 151.0, 83.0)\n",
      "Mi sposto sull'asse y\n",
      "(77.0, 150.0, 83.0)\n",
      "+ + + \n",
      "54\n",
      "(77.0, 150.0, 83.0)\n",
      "Volumi non uguali\n",
      "***\n",
      "Center of MRI\n",
      "(75.0, 150.0, 83.0)\n",
      "Mi sposto sull'asse y\n",
      "(77.0, 149.0, 83.0)\n",
      "+ + + \n",
      "54\n",
      "(77.0, 149.0, 83.0)\n",
      "Volumi non uguali\n",
      "***\n",
      "Center of MRI\n",
      "(75.0, 149.0, 83.0)\n",
      "Mi sposto sull'asse y\n",
      "(77.0, 148.0, 83.0)\n",
      "Diminuisco su y\n",
      "(77.0, 151.0, 83.0)\n",
      "+ + + \n",
      "54\n",
      "(77.0, 151.0, 83.0)\n",
      "Volumi non uguali\n",
      "***\n",
      "Center of MRI\n",
      "(76.0, 151.0, 83.0)\n",
      "Mi sposto sull'asse y\n",
      "(77.0, 149.0, 83.0)\n",
      "+ + + \n",
      "54\n",
      "(77.0, 149.0, 83.0)\n",
      "Volumi non uguali\n",
      "***\n",
      "Center of MRI\n",
      "(75.0, 149.0, 83.0)\n",
      "Mi sposto sull'asse y\n",
      "(77.0, 147.0, 83.0)\n",
      "Diminuisco su y\n",
      "(77.0, 150.0, 83.0)\n",
      "+ + + \n",
      "54\n",
      "(77.0, 150.0, 83.0)\n",
      "Volumi non uguali\n",
      "***\n",
      "Center of MRI\n",
      "(75.0, 150.0, 83.0)\n",
      "Mi sposto sull'asse y\n",
      "(77.0, 149.0, 83.0)\n",
      "+ + + \n",
      "54\n",
      "(77.0, 149.0, 83.0)\n",
      "Volumi non uguali\n",
      "***\n",
      "Center of MRI\n",
      "(75.0, 149.0, 83.0)\n",
      "Mi sposto sull'asse y\n",
      "(77.0, 148.0, 83.0)\n",
      "Diminuisco su y\n",
      "(77.0, 150.0, 83.0)\n",
      "+ + + \n",
      "54\n",
      "(77.0, 150.0, 83.0)\n",
      "Volumi non uguali\n",
      "***\n",
      "Center of MRI\n",
      "(76.0, 150.0, 83.0)\n",
      "Mi sposto sull'asse y\n",
      "(77.0, 149.0, 83.0)\n",
      "+ + + \n",
      "54\n",
      "(77.0, 149.0, 83.0)\n",
      "Volumi non uguali\n",
      "***\n",
      "Center of MRI\n",
      "(76.0, 149.0, 83.0)\n",
      "Mi sposto sull'asse y\n",
      "(77.0, 147.0, 83.0)\n",
      "Diminuisco su y\n",
      "(77.0, 150.0, 83.0)\n",
      "+ + + \n",
      "54\n",
      "(77.0, 150.0, 83.0)\n",
      "Volumi non uguali\n",
      "***\n",
      "Center of MRI\n",
      "(75.0, 150.0, 83.0)\n",
      "Mi sposto sull'asse y\n",
      "(77.0, 149.0, 83.0)\n",
      "+ + + \n",
      "54\n",
      "(77.0, 149.0, 83.0)\n",
      "Volumi non uguali\n",
      "***\n",
      "Center of MRI\n",
      "(75.0, 149.0, 83.0)\n",
      "Mi sposto sull'asse y\n",
      "(77.0, 147.0, 83.0)\n",
      "Diminuisco su y\n",
      "(77.0, 151.0, 83.0)\n",
      "+ + + \n",
      "54\n",
      "(77.0, 151.0, 83.0)\n",
      "Volumi non uguali\n",
      "***\n",
      "Center of MRI\n",
      "(76.0, 151.0, 83.0)\n",
      "Mi sposto sull'asse y\n",
      "(77.0, 149.0, 83.0)\n",
      "+ + + \n",
      "54\n",
      "(77.0, 149.0, 83.0)\n",
      "Volumi non uguali\n",
      "***\n",
      "Center of MRI\n",
      "(76.0, 149.0, 83.0)\n",
      "Mi sposto sull'asse y\n",
      "(77.0, 148.0, 83.0)\n",
      "Diminuisco su y\n",
      "(77.0, 151.0, 83.0)\n",
      "+ + + \n",
      "54\n",
      "(77.0, 151.0, 83.0)\n",
      "Volumi non uguali\n",
      "***\n",
      "Center of MRI\n",
      "(76.0, 151.0, 83.0)\n",
      "Mi sposto sull'asse y\n",
      "(77.0, 149.0, 83.0)\n",
      "+ + + \n",
      "54\n",
      "(77.0, 149.0, 83.0)\n",
      "Volumi non uguali\n",
      "***\n",
      "Center of MRI\n",
      "(75.0, 149.0, 83.0)\n",
      "Mi sposto sull'asse y\n",
      "(77.0, 147.0, 83.0)\n",
      "Diminuisco su y\n",
      "(77.0, 151.0, 83.0)\n",
      "+ + + \n",
      "54\n",
      "(77.0, 151.0, 83.0)\n",
      "Volumi non uguali\n",
      "***\n",
      "Center of MRI\n",
      "(76.0, 151.0, 83.0)\n",
      "Mi sposto sull'asse y\n",
      "(77.0, 149.0, 83.0)\n",
      "+ + + \n",
      "54\n",
      "(77.0, 149.0, 83.0)\n",
      "Volumi non uguali\n",
      "***\n",
      "Center of MRI\n",
      "(75.0, 149.0, 83.0)\n",
      "Mi sposto sull'asse y\n",
      "(77.0, 147.0, 83.0)\n",
      "Diminuisco su y\n",
      "(77.0, 150.0, 83.0)\n",
      "+ + + \n",
      "54\n",
      "(77.0, 150.0, 83.0)\n",
      "Volumi non uguali\n",
      "***\n",
      "Center of MRI\n",
      "(75.0, 150.0, 83.0)\n",
      "Mi sposto sull'asse y\n",
      "(77.0, 148.0, 83.0)\n",
      "Diminuisco su y\n",
      "(77.0, 152.0, 83.0)\n",
      "+ + + \n",
      "54\n",
      "(77.0, 152.0, 83.0)\n",
      "Volumi non uguali\n",
      "***\n",
      "Center of MRI\n",
      "(76.0, 152.0, 83.0)\n",
      "Mi sposto sull'asse y\n",
      "(77.0, 150.0, 83.0)\n",
      "+ + + \n",
      "54\n",
      "(77.0, 150.0, 83.0)\n",
      "Volumi non uguali\n",
      "***\n",
      "Center of MRI\n",
      "(76.0, 150.0, 83.0)\n",
      "Mi sposto sull'asse y\n",
      "(77.0, 148.0, 83.0)\n",
      "Diminuisco su y\n",
      "(77.0, 152.0, 83.0)\n",
      "+ + + \n",
      "54\n",
      "(77.0, 152.0, 83.0)\n",
      "Volumi non uguali\n",
      "***\n",
      "Center of MRI\n",
      "(75.0, 152.0, 83.0)\n",
      "Mi sposto sull'asse y\n",
      "(77.0, 151.0, 83.0)\n"
     ]
    },
    {
     "name": "stdout",
     "output_type": "stream",
     "text": [
      "+ + + \n",
      "54\n",
      "(77.0, 151.0, 83.0)\n",
      "Volumi non uguali\n",
      "***\n",
      "Center of MRI\n",
      "(75.0, 151.0, 83.0)\n",
      "Mi sposto sull'asse y\n",
      "(77.0, 149.0, 83.0)\n",
      "+ + + \n",
      "54\n",
      "(77.0, 149.0, 83.0)\n",
      "Volumi non uguali\n",
      "***\n",
      "Center of MRI\n",
      "(75.0, 149.0, 83.0)\n",
      "Mi sposto sull'asse y\n",
      "(77.0, 147.0, 83.0)\n",
      "Diminuisco su y\n",
      "(77.0, 150.0, 83.0)\n",
      "+ + + \n",
      "54\n",
      "(77.0, 150.0, 83.0)\n",
      "Volumi non uguali\n",
      "***\n",
      "Center of MRI\n",
      "(76.0, 150.0, 83.0)\n",
      "Mi sposto sull'asse y\n",
      "(77.0, 149.0, 83.0)\n",
      "+ + + \n",
      "54\n",
      "(77.0, 149.0, 83.0)\n",
      "Volumi non uguali\n",
      "***\n",
      "Center of MRI\n",
      "(76.0, 149.0, 83.0)\n",
      "Mi sposto sull'asse y\n",
      "(77.0, 147.0, 83.0)\n",
      "Diminuisco su y\n",
      "(77.0, 150.0, 83.0)\n",
      "+ + + \n",
      "54\n",
      "(77.0, 150.0, 83.0)\n",
      "Volumi non uguali\n",
      "***\n",
      "Center of MRI\n",
      "(75.0, 150.0, 83.0)\n",
      "Mi sposto sull'asse y\n",
      "(77.0, 149.0, 83.0)\n",
      "+ + + \n",
      "54\n",
      "(77.0, 149.0, 83.0)\n",
      "Volumi non uguali\n",
      "***\n",
      "Center of MRI\n",
      "(76.0, 149.0, 83.0)\n",
      "Mi sposto sull'asse y\n",
      "(77.0, 148.0, 83.0)\n",
      "Diminuisco su y\n",
      "(77.0, 151.0, 83.0)\n",
      "+ + + \n",
      "54\n",
      "(77.0, 151.0, 83.0)\n",
      "Volumi non uguali\n",
      "***\n",
      "Center of MRI\n",
      "(75.0, 151.0, 83.0)\n",
      "Mi sposto sull'asse y\n",
      "(77.0, 150.0, 83.0)\n",
      "+ + + \n",
      "54\n",
      "(77.0, 150.0, 83.0)\n",
      "Volumi non uguali\n",
      "***\n",
      "Center of MRI\n",
      "(76.0, 150.0, 83.0)\n",
      "Mi sposto sull'asse y\n",
      "(77.0, 148.0, 83.0)\n",
      "Diminuisco su y\n",
      "(77.0, 151.0, 83.0)\n"
     ]
    }
   ],
   "source": [
    "radius = 10\n",
    "for i in range(0,100):\n",
    "    if radius >=10:\n",
    "        print(\"+ + + \")\n",
    "        print(radius)\n",
    "        print(center_of_mri)\n",
    "        arr = sphere((166,256,256), radius, center_of_mri)\n",
    "        volume_sfera = np.sum(arr)\n",
    "        \n",
    "        if volume_sfera == np.sum(bin[arr]):\n",
    "            radius = radius + 1\n",
    "        else:\n",
    "            print(\"Volumi non uguali\")\n",
    "            \n",
    "            radius = radius - 1\n",
    "            spostamento_x = np.random.randint(2, size=1)[0]+1\n",
    "            center_of_mri_x = center_of_mri[0] - spostamento_x\n",
    "            center_of_mri =(center_of_mri_x, center_of_mri[1], center_of_mri[2])\n",
    "            print(\"***\")\n",
    "            print(\"Center of MRI\")\n",
    "            print(center_of_mri)\n",
    "            arr = sphere((166,256,256), radius, center_of_mri)\n",
    "            volume_sfera = np.sum(arr)\n",
    "            if volume_sfera == np.sum(bin[arr]):\n",
    "                radius = radius + 1\n",
    "            else:\n",
    "                print(\"Mi sposto sull'asse y\")\n",
    "                spostamento_y = np.random.randint(2, size=1)[0]+1\n",
    "                center_of_mri_y = center_of_mri[1] - spostamento_y\n",
    "\n",
    "                center_of_mri = (center_of_mri[0] + spostamento_x, center_of_mri_y, center_of_mri[2])\n",
    "                print(center_of_mri)\n",
    "                arr = sphere((166,256,256), radius, center_of_mri)\n",
    "                volume_sfera = np.sum(arr)\n",
    "                if volume_sfera == np.sum(bin[arr]):\n",
    "                    radius = radius + 1\n",
    "                else:\n",
    "                    print(\"Diminuisco su y\")\n",
    "                    spostamento_y_pos = np.random.randint(2, size=1)[0]+1\n",
    "                    center_of_mri_y = center_of_mri[1] + spostamento_y_pos\n",
    "                    center_of_mri = (center_of_mri[0], center_of_mri_y+spostamento_y, center_of_mri_z)\n",
    "                    print(center_of_mri)\n",
    "                    arr = sphere((166,256,256), radius, center_of_mri)\n",
    "                    volume_sfera = np.sum(arr)\n",
    "                    if volume_sfera == np.sum(bin[arr]):\n",
    "                        radius = radius + 1\n",
    "\n",
    "                    else:\n",
    "                        print(\"Z\")\n",
    "                        spostamento_z = np.random.randint(2, size=1)[0]+1\n",
    "                        center_of_mri_z = center_of_mri[2] - spostamento_z\n",
    "                        center_of_mri = (center_of_mri[0], center_of_mri[1] - spostamento_y_pos, center_of_mri_z)\n",
    "                        print(center_of_mri)\n",
    "                        arr = sphere((166,256,256), radius, center_of_mri)\n",
    "                        volume_sfera = np.sum(arr)\n",
    "                        if volume_sfera == np.sum(bin[arr]):\n",
    "                            radius = radius + 1\n",
    "                            \n",
    "                        else:\n",
    "                            spostamento_z_pos = np.random.randint(2, size=1)[0]+1\n",
    "                            center_of_mri_z = center_of_mri[2] + spostamento_z_pos\n",
    "                            center_of_mri = (center_of_mri[0], center_of_mri[1], center_of_mri[2] + spostamento_z)\n",
    "                            arr = sphere((166,256,256), radius, center_of_mri)\n",
    "                            volume_sfera = np.sum(arr)\n",
    "                            if volume_sfera == np.sum(bin[arr]):\n",
    "                                radius = radius + 1\n",
    "                            else:\n",
    "                                if radius >=35:\n",
    "                                    radius = radius -1\n",
    "                                else:\n",
    "                                    break\n",
    "\n",
    "    else:\n",
    "        break"
   ]
  },
  {
   "cell_type": "code",
   "execution_count": 109,
   "metadata": {},
   "outputs": [],
   "source": [
    "sd = sitk.GetImageFromArray(arr.astype(int))"
   ]
  },
  {
   "cell_type": "code",
   "execution_count": 110,
   "metadata": {},
   "outputs": [],
   "source": [
    "sd.SetDirection(output.GetDirection())"
   ]
  },
  {
   "cell_type": "code",
   "execution_count": 111,
   "metadata": {},
   "outputs": [
    {
     "data": {
      "text/plain": [
       "(-0.0,\n",
       " -9.65292785802798e-10,\n",
       " 1.0,\n",
       " -9.65292771794508e-10,\n",
       " 1.0,\n",
       " 9.652928160066061e-10,\n",
       " -1.0,\n",
       " -9.65292785802798e-10,\n",
       " 0.0)"
      ]
     },
     "execution_count": 111,
     "metadata": {},
     "output_type": "execute_result"
    }
   ],
   "source": [
    "sd.GetDirection()"
   ]
  },
  {
   "cell_type": "code",
   "execution_count": 320,
   "metadata": {},
   "outputs": [
    {
     "data": {
      "text/plain": [
       "<matplotlib.image.AxesImage at 0x7f381d5a2048>"
      ]
     },
     "execution_count": 320,
     "metadata": {},
     "output_type": "execute_result"
    },
    {
     "data": {
      "image/png": "[encoded data removed]",
      "text/plain": [
       "<Figure size 432x288 with 1 Axes>"
      ]
     },
     "metadata": {
      "needs_background": "light"
     },
     "output_type": "display_data"
    }
   ],
   "source": [
    "plt.imshow(arr[:, :, 83])\n",
    "plt.imshow(asd[:,:,83], alpha=0.6)"
   ]
  },
  {
   "cell_type": "code",
   "execution_count": 112,
   "metadata": {},
   "outputs": [],
   "source": [
    "sitk.WriteImage(sd, '/media/fabio/Disco locale/Scaricati/ADNI/output_sfera.nii.gz')"
   ]
  },
  {
   "cell_type": "code",
   "execution_count": 313,
   "metadata": {},
   "outputs": [
    {
     "name": "stdout",
     "output_type": "stream",
     "text": [
      "(77, 151, 83)\n",
      "54\n",
      "\n",
      "659757\n",
      "659752\n",
      "(78, 149.0, 83.0)\n",
      "\n",
      "659757\n",
      "659755\n",
      "(78, 149.0, 83.0)\n",
      "55\n",
      "\n",
      "696507\n",
      "696485\n",
      "(79, 149.0, 83.0)\n",
      "\n",
      "696507\n",
      "696505\n",
      "(79, 149.0, 83.0)\n",
      "56\n",
      "\n",
      "735317\n",
      "735271\n",
      "(80, 149.0, 83.0)\n",
      "\n",
      "735317\n",
      "735311\n",
      "(80, 149.0, 83.0)\n",
      "57\n",
      "\n",
      "775775\n",
      "775709\n",
      "(81, 149.0, 83.0)\n",
      "\n",
      "775775\n",
      "775740\n",
      "(81, 149.0, 83.0)\n",
      "58\n",
      "\n",
      "816577\n",
      "816490\n",
      "(82, 149.0, 83.0)\n",
      "\n",
      "816577\n",
      "816504\n",
      "(82, 149.0, 83.0)\n",
      "59\n",
      "\n",
      "860063\n",
      "859956\n",
      "(83, 149.0, 83.0)\n",
      "\n",
      "860063\n",
      "859965\n",
      "(83, 149.0, 83.0)\n",
      "60\n",
      "\n",
      "904089\n",
      "903951\n",
      "(84, 149.0, 83.0)\n",
      "\n",
      "904089\n",
      "903962\n",
      "(84, 149.0, 83.0)\n",
      "61\n",
      "\n",
      "950675\n",
      "950467\n",
      "(85, 149.0, 83.0)\n",
      "\n",
      "950675\n",
      "950481\n",
      "(85, 149.0, 83.0)\n",
      "62\n",
      "\n",
      "997825\n",
      "997575\n",
      "(86, 149.0, 83.0)\n",
      "\n",
      "997825\n",
      "997587\n",
      "(86, 149.0, 83.0)\n",
      "63\n",
      "\n",
      "1047331\n",
      "1047061\n",
      "(87, 149.0, 83.0)\n",
      "\n",
      "1047331\n",
      "1047068\n",
      "(87, 149.0, 83.0)\n",
      "64\n",
      "\n",
      "1097917\n",
      "1097626\n",
      "(88, 149.0, 83.0)\n",
      "\n",
      "1097917\n",
      "1097635\n",
      "(88, 149.0, 83.0)\n",
      "65\n",
      "\n",
      "1149483\n",
      "1149183\n",
      "(89, 149.0, 83.0)\n",
      "\n",
      "1149483\n",
      "1149177\n",
      "(89, 149.0, 83.0)\n",
      "66\n",
      "\n",
      "1204389\n",
      "1203847\n",
      "(90, 149.0, 83.0)\n",
      "\n",
      "1204389\n",
      "1203257\n"
     ]
    }
   ],
   "source": [
    "center_of_mri = (77, 151, 83)\n",
    "radius = 54\n",
    "while True:\n",
    "    arr = sphere((166,256,256), radius, center_of_mri)\n",
    "    volume_sfera = np.sum(arr)\n",
    "    print(center_of_mri)\n",
    "    print(radius)\n",
    "    print()\n",
    "    print(volume_sfera)\n",
    "    print(np.sum(bin[arr]))\n",
    "    if np.sum(bin[arr])-1 <= volume_sfera <= np.sum(bin[arr]) + 1:\n",
    "        radius = radius + 1\n",
    "        print(radius)\n",
    "    else:\n",
    "        center_of_mri_x = center_of_mri[0] + 1\n",
    "        center_of_mri = (center_of_mri_x, center_of_mri_y, center_of_mri_z)\n",
    "        print(center_of_mri)\n",
    "        arr = sphere((166,256,256), radius, center_of_mri)\n",
    "        volume_sfera = np.sum(arr)\n",
    "        print()\n",
    "        print(volume_sfera)\n",
    "        print(np.sum(bin[arr]))\n",
    "        if np.sum(bin[arr])-1000 <= volume_sfera <= np.sum(bin[arr]) + 1000:\n",
    "            radius = radius + 1\n",
    "        else:\n",
    "            break"
   ]
  },
  {
   "cell_type": "code",
   "execution_count": 314,
   "metadata": {},
   "outputs": [],
   "source": [
    "arr = sphere((166,256,256), radius, center_of_mri)"
   ]
  },
  {
   "cell_type": "code",
   "execution_count": null,
   "metadata": {},
   "outputs": [],
   "source": []
  },
  {
   "cell_type": "code",
   "execution_count": null,
   "metadata": {},
   "outputs": [],
   "source": []
  }
 ],
 "metadata": {
  "kernelspec": {
   "display_name": "Python 3",
   "language": "python",
   "name": "python3"
  },
  "language_info": {
   "codemirror_mode": {
    "name": "ipython",
    "version": 3
   },
   "file_extension": ".py",
   "mimetype": "text/x-python",
   "name": "python",
   "nbconvert_exporter": "python",
   "pygments_lexer": "ipython3",
   "version": "3.6.1"
  }
 },
 "nbformat": 4,
 "nbformat_minor": 2
}
